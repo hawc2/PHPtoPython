{
  "nbformat": 4,
  "nbformat_minor": 0,
  "metadata": {
    "colab": {
      "name": "TEI from PHP.ipynb",
      "provenance": [],
      "authorship_tag": "ABX9TyPJk0IVnWoqt9xl0fqtEgfL",
      "include_colab_link": true
    },
    "kernelspec": {
      "name": "python3",
      "display_name": "Python 3"
    }
  },
  "cells": [
    {
      "cell_type": "markdown",
      "metadata": {
        "id": "view-in-github",
        "colab_type": "text"
      },
      "source": [
        "<a href=\"https://colab.research.google.com/github/hawc2/PHPtoPython/blob/main/TEI.ipynb\" target=\"_parent\"><img src=\"https://colab.research.google.com/assets/colab-badge.svg\" alt=\"Open In Colab\"/></a>"
      ]
    },
    {
      "cell_type": "markdown",
      "metadata": {
        "id": "9p_h4M-Owuui"
      },
      "source": [
        "# Scripts to try translating PHP to Python\r\n",
        "\r\n",
        "Using Don Kretz's PHP scripts for TEI transformations, create a Python pipeline\r\n",
        "\r\n",
        "# To Dos\r\n",
        "\r\n"
      ]
    },
    {
      "cell_type": "code",
      "metadata": {
        "id": "a8O_vqd9wqr0"
      },
      "source": [
        ""
      ],
      "execution_count": null,
      "outputs": []
    }
  ]
}