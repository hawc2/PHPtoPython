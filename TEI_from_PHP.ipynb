{
  "nbformat": 4,
  "nbformat_minor": 0,
  "metadata": {
    "colab": {
      "name": "TEI from PHP.ipynb",
      "provenance": [],
      "authorship_tag": "ABX9TyPWt7EGlDqNWk/4fnE/gHnS",
      "include_colab_link": true
    },
    "kernelspec": {
      "name": "python3",
      "display_name": "Python 3"
    }
  },
  "cells": [
    {
      "cell_type": "markdown",
      "metadata": {
        "id": "view-in-github",
        "colab_type": "text"
      },
      "source": [
        "<a href=\"https://colab.research.google.com/github/hawc2/PHPtoPython/blob/main/TEI_from_PHP.ipynb\" target=\"_parent\"><img src=\"https://colab.research.google.com/assets/colab-badge.svg\" alt=\"Open In Colab\"/></a>"
      ]
    },
    {
      "cell_type": "markdown",
      "metadata": {
        "id": "9p_h4M-Owuui"
      },
      "source": [
        "# Scripts to try translating PHP to Python\r\n",
        "\r\n",
        "Using Don Kretz's PHP scripts for TEI transformations, create a Python pipeline\r\n",
        "\r\n",
        "Github Repo: https://github.com/hawc2/PHPtoPython\r\n",
        "\r\n",
        "TEI.PHP script to translate: https://github.com/hawc2/PHPtoPython/blob/main/EBTEI.php\r\n"
      ]
    },
    {
      "cell_type": "code",
      "metadata": {
        "id": "a8O_vqd9wqr0"
      },
      "source": [
        ""
      ],
      "execution_count": null,
      "outputs": []
    }
  ]
}